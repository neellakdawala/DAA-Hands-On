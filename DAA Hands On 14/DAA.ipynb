{
 "cells": [
  {
   "cell_type": "markdown",
   "id": "499061db-1ce9-4755-8f56-f18c7bac16bd",
   "metadata": {},
   "source": [
    "Implement and test on examples from the book. Then upload your source code to GitHub. Do this for the following algorithms:\n",
    "\n",
    "1.  Dijkstra's algorithm\n",
    "\n",
    "2. Bellman-Ford algorithm\n",
    "\n",
    "3. Floyd-Warshall algorithm"
   ]
  },
  {
   "cell_type": "code",
   "execution_count": 4,
   "id": "6342d31a-5c53-438e-a542-aecec48d9e92",
   "metadata": {},
   "outputs": [
    {
     "name": "stdout",
     "output_type": "stream",
     "text": [
      "Shortest distances from source node 's':\n",
      "Node s: 0\n",
      "Node t: 3\n",
      "Node y: 5\n",
      "Node x: 9\n",
      "Node z: 11\n"
     ]
    }
   ],
   "source": [
    "import heapq\n",
    "\n",
    "def dijkstra(graph, start):\n",
    "    pq = []\n",
    "    heapq.heappush(pq, (0, start))\n",
    "    \n",
    "    distances = {node: float('inf') for node in graph}\n",
    "    distances[start] = 0\n",
    "    \n",
    "    visited = set()\n",
    "    \n",
    "    while pq:\n",
    "        current_distance, current_node = heapq.heappop(pq)\n",
    "        \n",
    "        if current_node in visited:\n",
    "            continue\n",
    "        visited.add(current_node)\n",
    "        \n",
    "        for neighbor, weight in graph[current_node]:\n",
    "            distance = current_distance + weight\n",
    "            if distance < distances[neighbor]:\n",
    "                distances[neighbor] = distance\n",
    "                heapq.heappush(pq, (distance, neighbor))\n",
    "    \n",
    "    return distances\n",
    "\n",
    "graph = {\n",
    "    's': [('t', 3), ('y', 5)],\n",
    "    't': [('x', 6), ('y', 2)],\n",
    "    'y': [('t', 1), ('x', 4), ('z', 6)],\n",
    "    'x': [('z', 2)],\n",
    "    'z': [('s', 3), ('x', 7)]\n",
    "}\n",
    "\n",
    "source = 's'\n",
    "shortest_distances = dijkstra(graph, source)\n",
    "\n",
    "print(\"Shortest distances from source node 's':\")\n",
    "for node, distance in shortest_distances.items():\n",
    "    print(f\"Node {node}: {distance}\")"
   ]
  },
  {
   "cell_type": "code",
   "execution_count": 8,
   "id": "fd2a469d-23e0-4c7e-807a-d5f6e278cfc6",
   "metadata": {},
   "outputs": [
    {
     "name": "stdout",
     "output_type": "stream",
     "text": [
      "Shortest distances from source node 's':\n",
      "Node s: 0\n",
      "Node t: 3\n",
      "Node y: 5\n",
      "Node x: 9\n",
      "Node z: 11\n"
     ]
    }
   ],
   "source": [
    "def bellman_ford(graph, start):\n",
    "    distances = {node: float('inf') for node in graph}\n",
    "    distances[start] = 0\n",
    "\n",
    "    for _ in range(len(graph) - 1):\n",
    "        for node in graph:\n",
    "            for neighbor, weight in graph[node]:\n",
    "                if distances[node] + weight < distances[neighbor]:\n",
    "                    distances[neighbor] = distances[node] + weight\n",
    "\n",
    "    for node in graph:\n",
    "        for neighbor, weight in graph[node]:\n",
    "            if distances[node] + weight < distances[neighbor]:\n",
    "                raise ValueError(\"Graph contains a negative-weight cycle\")\n",
    "\n",
    "    return distances\n",
    "\n",
    "graph = {\n",
    "    's': [('t', 3), ('y', 5)],\n",
    "    't': [('x', 6), ('y', 2)],\n",
    "    'y': [('t', 1), ('x', 4), ('z', 6)],\n",
    "    'x': [('z', 2)],\n",
    "    'z': [('s', 3), ('x', 7)]\n",
    "}\n",
    "\n",
    "source = 's'\n",
    "try:\n",
    "    shortest_distances = bellman_ford(graph, source)\n",
    "    # Print the results\n",
    "    print(\"Shortest distances from source node 's':\")\n",
    "    for node, distance in shortest_distances.items():\n",
    "        print(f\"Node {node}: {distance}\")\n",
    "except ValueError as e:\n",
    "    print(e)"
   ]
  },
  {
   "cell_type": "code",
   "execution_count": 22,
   "id": "5257d873-7119-4c29-8a77-d5c1ba574686",
   "metadata": {},
   "outputs": [
    {
     "name": "stdout",
     "output_type": "stream",
     "text": [
      "Shortest path matrix:\n",
      "    s   t   x   y   z\n",
      "s:   0     3     9     5    11\n",
      "t:  11     0     6     2     8\n",
      "x:   5     8     0    10     2\n",
      "y:   9     1     4     0     6\n",
      "z:   3     6     7     8     0\n"
     ]
    }
   ],
   "source": [
    "def floyd_warshall_adj_list(graph):\n",
    "    nodes = set(graph.keys())\n",
    "    for node in graph:\n",
    "        for neighbor, _ in graph[node]:\n",
    "            nodes.add(neighbor)\n",
    "    \n",
    "    dist = {i: {j: float('inf') for j in nodes} for i in nodes}\n",
    "    \n",
    "    for node in nodes:\n",
    "        dist[node][node] = 0\n",
    "    \n",
    "    for node in graph:\n",
    "        for neighbor, weight in graph[node]:\n",
    "            dist[node][neighbor] = weight\n",
    "    \n",
    "    for k in nodes:  \n",
    "        for i in nodes:  \n",
    "            for j in nodes: \n",
    "                if dist[i][j] > dist[i][k] + dist[k][j]:\n",
    "                    dist[i][j] = dist[i][k] + dist[k][j]\n",
    "\n",
    "    return dist\n",
    "\n",
    "\n",
    "graph = {\n",
    "    's': [('t', 3), ('y', 5)],\n",
    "    't': [('x', 6), ('y', 2)],\n",
    "    'y': [('t', 1), ('x', 4), ('z', 6)],\n",
    "    'x': [('z', 2)],\n",
    "    'z': [('s', 3), ('x', 7)]\n",
    "}\n",
    "\n",
    "shortest_paths = floyd_warshall_adj_list(graph)\n",
    "\n",
    "print(\"Shortest path matrix:\")\n",
    "nodes = sorted(shortest_paths.keys())\n",
    "print(\"    \" + \"   \".join(nodes))\n",
    "for i in nodes:\n",
    "    row = [f\"{shortest_paths[i][j]:3}\" if shortest_paths[i][j] != float('inf') else \" ∞\" for j in nodes]\n",
    "    print(f\"{i}: {'   '.join(row)}\")"
   ]
  }
 ],
 "metadata": {
  "kernelspec": {
   "display_name": "Python 3 (ipykernel)",
   "language": "python",
   "name": "python3"
  },
  "language_info": {
   "codemirror_mode": {
    "name": "ipython",
    "version": 3
   },
   "file_extension": ".py",
   "mimetype": "text/x-python",
   "name": "python",
   "nbconvert_exporter": "python",
   "pygments_lexer": "ipython3",
   "version": "3.12.4"
  }
 },
 "nbformat": 4,
 "nbformat_minor": 5
}
