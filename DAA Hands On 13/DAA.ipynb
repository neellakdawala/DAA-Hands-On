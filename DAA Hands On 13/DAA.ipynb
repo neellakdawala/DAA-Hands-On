{
 "cells": [
  {
   "cell_type": "markdown",
   "id": "b520ac00-44e1-4784-97de-21b66704f7cd",
   "metadata": {},
   "source": [
    "# Hands-On 13\n",
    "\n",
    "Implement the following algorithms:\n",
    "\n",
    "1. Topological sort\n",
    "\n",
    "2. Depth-First Search\n",
    "\n",
    "3. Kruskal algorithm\n",
    "\n",
    "Test them on the examples from the book and upload your code and tests to Github."
   ]
  },
  {
   "cell_type": "code",
   "execution_count": 30,
   "id": "762fe16c-1e64-4940-93d9-198687675afc",
   "metadata": {},
   "outputs": [
    {
     "name": "stdout",
     "output_type": "stream",
     "text": [
      "Topological Sort:\n",
      "['watch', 'socks', 'shirt', 'tie', 'undershorts', 'pants', 'shoes', 'belt', 'jacket']\n"
     ]
    }
   ],
   "source": [
    "def topological_sort_dfs(graph):\n",
    "    visited = set()\n",
    "    stack = []\n",
    "\n",
    "    def dfs(node):\n",
    "        if node not in visited:\n",
    "            visited.add(node)\n",
    "            for neighbor in graph[node]:\n",
    "                dfs(neighbor)\n",
    "            stack.append(node)\n",
    "\n",
    "    for node in graph:\n",
    "        if node not in visited:\n",
    "            dfs(node)\n",
    "    \n",
    "    return stack[::-1]\n",
    "\n",
    "graph = {\n",
    "    \"undershorts\": [\"pants\", \"shoes\"],\n",
    "    \"pants\": [\"belt\", \"shoes\"],\n",
    "    \"belt\": [\"jacket\"],\n",
    "    \"shirt\": [\"tie\", \"jacket\"],\n",
    "    \"tie\": [\"jacket\"],\n",
    "    \"jacket\": [],\n",
    "    \"socks\": [\"shoes\"],\n",
    "    \"shoes\": [],\n",
    "    \"watch\": []\n",
    "}\n",
    "\n",
    "topological_order = topological_sort_dfs(graph)\n",
    "print(\"Topological Sort:\")\n",
    "print(topological_order)"
   ]
  },
  {
   "cell_type": "code",
   "execution_count": 26,
   "id": "5bd1a76e-84bd-4a8a-bed8-765b1dca4ab8",
   "metadata": {},
   "outputs": [
    {
     "name": "stdout",
     "output_type": "stream",
     "text": [
      "DFS Traversal Starting from Node 'u':\n",
      "u v y x "
     ]
    }
   ],
   "source": [
    "graph = {\n",
    "    'u': ['v', 'x'],       \n",
    "    'v': ['y'],  \n",
    "    'w': ['z', 'y'],            \n",
    "    'x': ['y'],       \n",
    "    'y': ['x'],       \n",
    "    'z': ['z']                \n",
    "}\n",
    "\n",
    "def dfs(graph, start, visited=None):\n",
    "    if visited is None:\n",
    "        visited = set()  \n",
    "    \n",
    "    visited.add(start)  \n",
    "    print(start, end=\" \")  \n",
    "    \n",
    "    for neighbor in graph[start]:\n",
    "        if neighbor not in visited:\n",
    "            dfs(graph, neighbor, visited)\n",
    "\n",
    "print(\"DFS Traversal Starting from Node 'u':\")\n",
    "dfs(graph, 'u')"
   ]
  },
  {
   "cell_type": "code",
   "execution_count": 28,
   "id": "4b7a45c5-db7a-44ed-b615-beead230dea3",
   "metadata": {},
   "outputs": [
    {
     "name": "stdout",
     "output_type": "stream",
     "text": [
      "Minimum Spanning Tree (MST):\n"
     ]
    },
    {
     "data": {
      "text/plain": [
       "[('g', 'h', 1),\n",
       " ('c', 'i', 2),\n",
       " ('f', 'g', 2),\n",
       " ('a', 'b', 4),\n",
       " ('c', 'f', 4),\n",
       " ('c', 'd', 7),\n",
       " ('a', 'h', 8),\n",
       " ('d', 'e', 9)]"
      ]
     },
     "execution_count": 28,
     "metadata": {},
     "output_type": "execute_result"
    }
   ],
   "source": [
    "edges = [\n",
    "    (\"a\", \"b\", 4), (\"a\", \"h\", 8),\n",
    "    (\"b\", \"c\", 8), (\"b\", \"h\", 11),\n",
    "    (\"c\", \"d\", 7), (\"c\", \"i\", 2), (\"c\", \"f\", 4),\n",
    "    (\"d\", \"e\", 9), (\"d\", \"f\", 14),\n",
    "    (\"e\", \"f\", 10),\n",
    "    (\"f\", \"g\", 2),\n",
    "    (\"g\", \"h\", 1),\n",
    "    (\"h\", \"i\", 7)\n",
    "]\n",
    "\n",
    "def kruskal_algorithm(edges):\n",
    "    edges.sort(key=lambda edge: edge[2])\n",
    "    \n",
    "    def find(parent, node):\n",
    "        if parent[node] != node:\n",
    "            parent[node] = find(parent, parent[node])  \n",
    "        return parent[node]\n",
    "\n",
    "    def union(parent, rank, node1, node2):\n",
    "        root1 = find(parent, node1)\n",
    "        root2 = find(parent, node2)\n",
    "        \n",
    "        if rank[root1] > rank[root2]:\n",
    "            parent[root2] = root1\n",
    "        elif rank[root1] < rank[root2]:\n",
    "            parent[root1] = root2\n",
    "        else:\n",
    "            parent[root2] = root1\n",
    "            rank[root1] += 1\n",
    "\n",
    "    nodes = set([edge[0] for edge in edges] + [edge[1] for edge in edges])\n",
    "    parent = {node: node for node in nodes}\n",
    "    rank = {node: 0 for node in nodes}\n",
    "\n",
    "    mst = []  \n",
    "    for edge in edges:\n",
    "        node1, node2, weight = edge\n",
    "        if find(parent, node1) != find(parent, node2):\n",
    "            union(parent, rank, node1, node2)\n",
    "            mst.append(edge)\n",
    "    \n",
    "    return mst\n",
    "\n",
    "print(\"Minimum Spanning Tree (MST):\")\n",
    "mst = kruskal_algorithm(edges)\n",
    "mst\n"
   ]
  }
 ],
 "metadata": {
  "kernelspec": {
   "display_name": "Python 3 (ipykernel)",
   "language": "python",
   "name": "python3"
  },
  "language_info": {
   "codemirror_mode": {
    "name": "ipython",
    "version": 3
   },
   "file_extension": ".py",
   "mimetype": "text/x-python",
   "name": "python",
   "nbconvert_exporter": "python",
   "pygments_lexer": "ipython3",
   "version": "3.12.4"
  }
 },
 "nbformat": 4,
 "nbformat_minor": 5
}
