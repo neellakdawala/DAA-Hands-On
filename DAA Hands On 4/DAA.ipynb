{
 "cells": [
  {
   "cell_type": "markdown",
   "id": "a0aad02c-2a16-40fb-b27e-b61518536861",
   "metadata": {},
   "source": [
    "# Problem 0\n",
    "\n",
    "#### Implement the Fibonacci sequence."
   ]
  },
  {
   "cell_type": "code",
   "execution_count": 2,
   "id": "45edabc0-dab2-4123-87a5-882ac2954bc7",
   "metadata": {},
   "outputs": [
    {
     "data": {
      "text/plain": [
       "5"
      ]
     },
     "execution_count": 2,
     "metadata": {},
     "output_type": "execute_result"
    }
   ],
   "source": [
    "def fib(n):\n",
    "    if n == 0:\n",
    "        return 0\n",
    "    if n == 1:\n",
    "         return 1\n",
    "    return fib(n-1) + fib(n-2)\n",
    "\n",
    "fib(5)"
   ]
  },
  {
   "cell_type": "markdown",
   "id": "bd21e039-529c-405e-a11b-f72bc01e90cd",
   "metadata": {},
   "source": [
    "#### Debug the code and \"step into\" the function for fib(5). I want you to step into all recursive calls and list out the the function call stack ex. fib(5) -> fib(4) -> fib(3) ?....  that you observe."
   ]
  },
  {
   "cell_type": "markdown",
   "id": "930daca6-6d6f-4ecc-bf98-ab8c7e673f40",
   "metadata": {},
   "source": [
    "``` \n",
    "# fib(5)\n",
    "    # fib(4)\n",
    "        # fib(3)\n",
    "            # fib(2)\n",
    "                # fib(1) returns 1\n",
    "                # fib(0) returns 0\n",
    "            # fib(1) returns 1\n",
    "        # fib(2)\n",
    "            # fib(1) returns 1\n",
    "            # fib(0) returns 0\n",
    "    # fib(3)\n",
    "        # fib(2)\n",
    "            # fib(1) returns 1\n",
    "            # fib(0) returns 0\n",
    "        # fib(1) returns 1\n",
    "```"
   ]
  },
  {
   "cell_type": "markdown",
   "id": "135a9932-af9e-4915-8f26-902ffa58aeaa",
   "metadata": {},
   "source": [
    "``` \n",
    "For the following two problems:\n",
    "\n",
    "1. Implement the solutions and upload it to github\n",
    "\n",
    "2. Prove the time complexity of the algorithms\n",
    "\n",
    "3. Comment on way's you could improve your implementation (you don't need to do it just discuss it)\n",
    "```"
   ]
  },
  {
   "cell_type": "markdown",
   "id": "251de2bb-3867-48da-b4b3-4c3052d878b9",
   "metadata": {},
   "source": [
    "# Problem 1\n",
    "\n",
    "```\n",
    "Given K sorted arrays of size N each, the task is to merge them all maintaining their sorted order.\n",
    "\n",
    "Examples: \n",
    "\n",
    "Input: K = 3, N =  4\n",
    "array1 = [1,3,5,7]\n",
    "array2 = [2,4,6,8]\n",
    "array3 = [0,9,10,11]\n",
    "Output: [0,1,2,3,4,5,6,7,8,9,10,11]\n",
    "Merged array in a sorted order where every element is greater than the previous element.\n",
    "\n",
    "Input: K = 3, N =  3\n",
    "array1 = [1,3,7]\n",
    "array2 = [2,4,8]\n",
    "array3 = [9,10,11]\n",
    "Output: [1,2,3,4,7,8,9,10,11]\n",
    "Merged array in a sorted order where every element is greater than the previous element.\n",
    "```"
   ]
  },
  {
   "cell_type": "code",
   "execution_count": 7,
   "id": "04f06435-d15c-4e52-b511-b1f890c36d26",
   "metadata": {},
   "outputs": [
    {
     "name": "stdin",
     "output_type": "stream",
     "text": [
      "Enter the number of arrays (K):  3\n",
      "Enter the number of elements in each array (N):  4\n"
     ]
    },
    {
     "name": "stdout",
     "output_type": "stream",
     "text": [
      "Enter sorted elements for array 1 separated by spaces:\n"
     ]
    },
    {
     "name": "stdin",
     "output_type": "stream",
     "text": [
      " 1 3 5 7\n"
     ]
    },
    {
     "name": "stdout",
     "output_type": "stream",
     "text": [
      "Enter sorted elements for array 2 separated by spaces:\n"
     ]
    },
    {
     "name": "stdin",
     "output_type": "stream",
     "text": [
      " 2 4 6 8\n"
     ]
    },
    {
     "name": "stdout",
     "output_type": "stream",
     "text": [
      "Enter sorted elements for array 3 separated by spaces:\n"
     ]
    },
    {
     "name": "stdin",
     "output_type": "stream",
     "text": [
      " 0 9 10 11\n"
     ]
    },
    {
     "name": "stdout",
     "output_type": "stream",
     "text": [
      "Merged array in sorted order: [0, 1, 2, 3, 4, 5, 6, 7, 8, 9, 10, 11]\n"
     ]
    }
   ],
   "source": [
    "import heapq\n",
    "\n",
    "def merge_k_sorted_arrays(arrays):\n",
    "    heap = []\n",
    "    result = []\n",
    "    \n",
    "    for i in range(len(arrays)):\n",
    "        heapq.heappush(heap, (arrays[i][0], i, 0))\n",
    "    \n",
    "    while heap:\n",
    "        val, array_idx, element_idx = heapq.heappop(heap)\n",
    "        result.append(val)\n",
    "        \n",
    "        if element_idx + 1 < len(arrays[array_idx]):\n",
    "            next_val = arrays[array_idx][element_idx + 1]\n",
    "            heapq.heappush(heap, (next_val, array_idx, element_idx + 1))\n",
    "    \n",
    "    return result\n",
    "\n",
    "def main():\n",
    "    K = int(input(\"Enter the number of arrays (K): \"))\n",
    "    N = int(input(\"Enter the number of elements in each array (N): \"))\n",
    "    \n",
    "    arrays = []\n",
    "    \n",
    "    for i in range(K):\n",
    "        print(f\"Enter sorted elements for array {i + 1} separated by spaces:\")\n",
    "        array = list(map(int, input().split()))\n",
    "        arrays.append(array)\n",
    "    \n",
    "    merged_array = merge_k_sorted_arrays(arrays)\n",
    "    \n",
    "    print(\"Merged array in sorted order:\", merged_array)\n",
    "\n",
    "if __name__ == \"__main__\":\n",
    "    main()"
   ]
  },
  {
   "cell_type": "markdown",
   "id": "c046e6a8-9b57-495a-94e2-59b632de4c0f",
   "metadata": {},
   "source": [
    "The time complexity is **O(KN log K)**, where K is the number of arrays and N is the size of each array. This is because each insertion and extraction from the heap takes **O(log K)** time, and we perform this operation for all **K * N** elements.\n",
    "\n",
    "Improvement:\n",
    "You could improve this by implementing a multi-way merge strategy similar to merge sort, which might be more cache-efficient for certain large datasets."
   ]
  },
  {
   "cell_type": "markdown",
   "id": "8092ff70-bec3-4bfc-a844-ca08edc43977",
   "metadata": {},
   "source": [
    "# Problem 2\n",
    "\n",
    "```\n",
    "Given a sorted array array of size N, the task is to remove the duplicate elements from the array.\n",
    "\n",
    "Examples: \n",
    "\n",
    "Input: array = [2, 2, 2, 2, 2]\n",
    "Output: array= [2]\n",
    "Explanation: All the elements are 2, So only keep one instance of 2.\n",
    "\n",
    "Input: array = [1, 2, 2, 3, 4, 4, 4, 5, 5]\n",
    "Output: array[] = {1, 2, 3, 4, 5}\n",
    "\n",
    "Note, you can't use something like the set container in C++.\n",
    "```"
   ]
  },
  {
   "cell_type": "code",
   "execution_count": 10,
   "id": "d4675dd6-2785-4931-b3df-46f2d8132bc9",
   "metadata": {},
   "outputs": [
    {
     "name": "stdout",
     "output_type": "stream",
     "text": [
      "Enter sorted elements for array separated by spaces:\n"
     ]
    },
    {
     "name": "stdin",
     "output_type": "stream",
     "text": [
      " 2 2 2 2 2 2\n"
     ]
    },
    {
     "name": "stdout",
     "output_type": "stream",
     "text": [
      "Array without duplicates: [2]\n"
     ]
    }
   ],
   "source": [
    "def remove_duplicates(arr):\n",
    "    if not arr:\n",
    "        return []\n",
    "    \n",
    "    unique_index = 0\n",
    "    for i in range(1, len(arr)):\n",
    "        if arr[i] != arr[unique_index]:\n",
    "            unique_index += 1\n",
    "            arr[unique_index] = arr[i]\n",
    "    \n",
    "    return arr[:unique_index + 1]\n",
    "\n",
    "def main():\n",
    "    print(f\"Enter sorted elements for array separated by spaces:\")\n",
    "    array = list(map(int, input().split()))\n",
    "    \n",
    "    result = remove_duplicates(array)\n",
    "    \n",
    "    print(\"Array without duplicates:\", result)\n",
    "    \n",
    "if __name__ == \"__main__\":\n",
    "    main()"
   ]
  },
  {
   "cell_type": "markdown",
   "id": "65be9eff-232e-4372-b748-5fb40f40720c",
   "metadata": {},
   "source": [
    "The time complexity is **O(N)**, as we only iterate over the array once, and the space complexity is **O(1)** since we modify the array in place.\n",
    "\n",
    "Improvement:\n",
    "If space wasn’t constrained, we could use a hash set to track the elements more explicitly, but in-place modification is usually preferable for memory efficiency."
   ]
  }
 ],
 "metadata": {
  "kernelspec": {
   "display_name": "Python 3 (ipykernel)",
   "language": "python",
   "name": "python3"
  },
  "language_info": {
   "codemirror_mode": {
    "name": "ipython",
    "version": 3
   },
   "file_extension": ".py",
   "mimetype": "text/x-python",
   "name": "python",
   "nbconvert_exporter": "python",
   "pygments_lexer": "ipython3",
   "version": "3.12.4"
  }
 },
 "nbformat": 4,
 "nbformat_minor": 5
}
