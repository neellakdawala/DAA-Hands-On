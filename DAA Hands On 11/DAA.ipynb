{
 "cells": [
  {
   "cell_type": "code",
   "execution_count": 3,
   "id": "2bea4f46-ecc8-4248-bf9e-ffeb3e66ef42",
   "metadata": {},
   "outputs": [
    {
     "name": "stdout",
     "output_type": "stream",
     "text": [
      "Array elements: [1, 2, 3, 4]\n",
      "Element at index 2: 3\n",
      "Array elements after setting index 1 to 10: [1, 10, 3, 4]\n",
      "Array elements after pop_back: [1, 10, 3]\n",
      "Size: 3 , Capacity: 4\n"
     ]
    }
   ],
   "source": [
    "class DynamicArray:\n",
    "    def __init__(self):\n",
    "        self.capacity = 2\n",
    "        self.size = 0\n",
    "        self.array = [0] * self.capacity\n",
    "\n",
    "    def resize(self, new_capacity):\n",
    "        new_array = [0] * new_capacity\n",
    "        for i in range(self.size):\n",
    "            new_array[i] = self.array[i]\n",
    "        self.array = new_array\n",
    "        self.capacity = new_capacity\n",
    "\n",
    "    def push_back(self, value):\n",
    "        if self.size == self.capacity:\n",
    "            self.resize(2 * self.capacity)\n",
    "        self.array[self.size] = value\n",
    "        self.size += 1\n",
    "\n",
    "    def pop_back(self):\n",
    "        if self.size > 0:\n",
    "            self.size -= 1\n",
    "            if self.size <= self.capacity // 4:\n",
    "                self.resize(self.capacity // 2)\n",
    "\n",
    "    def get(self, index):\n",
    "        if 0 <= index < self.size:\n",
    "            return self.array[index]\n",
    "        raise IndexError(\"Index out of range\")\n",
    "\n",
    "    def set(self, index, value):\n",
    "        if 0 <= index < self.size:\n",
    "            self.array[index] = value\n",
    "        else:\n",
    "            raise IndexError(\"Index out of range\")\n",
    "\n",
    "    def get_size(self):\n",
    "        return self.size\n",
    "\n",
    "    def get_capacity(self):\n",
    "        return self.capacity\n",
    "\n",
    "    def print(self):\n",
    "        print([self.array[i] for i in range(self.size)])\n",
    "\n",
    "if __name__ == \"__main__\":\n",
    "    dyn_arr = DynamicArray()\n",
    "\n",
    "    dyn_arr.push_back(1)\n",
    "    dyn_arr.push_back(2)\n",
    "    dyn_arr.push_back(3)\n",
    "    dyn_arr.push_back(4)\n",
    "\n",
    "    print(\"Array elements:\", end=\" \")\n",
    "    dyn_arr.print()\n",
    "\n",
    "    print(\"Element at index 2:\", dyn_arr.get(2))\n",
    "\n",
    "    dyn_arr.set(1, 10)\n",
    "    print(\"Array elements after setting index 1 to 10:\", end=\" \")\n",
    "    dyn_arr.print()\n",
    "\n",
    "    dyn_arr.pop_back()\n",
    "    print(\"Array elements after pop_back:\", end=\" \")\n",
    "    dyn_arr.print()\n",
    "\n",
    "    print(\"Size:\", dyn_arr.get_size(), \", Capacity:\", dyn_arr.get_capacity())"
   ]
  },
  {
   "cell_type": "code",
   "execution_count": null,
   "id": "ce8daffd-3d29-4b52-9fb4-2ec81dd05142",
   "metadata": {},
   "outputs": [],
   "source": []
  }
 ],
 "metadata": {
  "kernelspec": {
   "display_name": "Python 3 (ipykernel)",
   "language": "python",
   "name": "python3"
  },
  "language_info": {
   "codemirror_mode": {
    "name": "ipython",
    "version": 3
   },
   "file_extension": ".py",
   "mimetype": "text/x-python",
   "name": "python",
   "nbconvert_exporter": "python",
   "pygments_lexer": "ipython3",
   "version": "3.12.4"
  }
 },
 "nbformat": 4,
 "nbformat_minor": 5
}
